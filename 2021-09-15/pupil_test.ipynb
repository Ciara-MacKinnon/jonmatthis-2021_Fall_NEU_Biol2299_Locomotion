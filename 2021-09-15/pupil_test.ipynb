{
 "metadata": {
  "language_info": {
   "codemirror_mode": {
    "name": "ipython",
    "version": 3
   },
   "file_extension": ".py",
   "mimetype": "text/x-python",
   "name": "python",
   "nbconvert_exporter": "python",
   "pygments_lexer": "ipython3",
   "version": "3.7.11"
  },
  "orig_nbformat": 4,
  "kernelspec": {
   "name": "python3",
   "display_name": "Python 3.7.11 64-bit ('fmc_v0.0.30': conda)"
  },
  "interpreter": {
   "hash": "157a41cb645179307dea2f525d777573a345ed059fe4937d4d71da73a0cd5316"
  }
 },
 "nbformat": 4,
 "nbformat_minor": 2,
 "cells": [
  {
   "source": [
    "# trying out pupil python analysis whosit\n"
   ],
   "cell_type": "markdown",
   "metadata": {}
  },
  {
   "cell_type": "code",
   "execution_count": 1,
   "metadata": {},
   "outputs": [],
   "source": [
    "#import stuff\n",
    "import cv2\n",
    "from pathlib import Path\n",
    "import numpy as np \n",
    "from matplotlib import pyplot as plt\n",
    "import pandas as pd"
   ]
  },
  {
   "cell_type": "code",
   "execution_count": 2,
   "metadata": {},
   "outputs": [],
   "source": [
    "gaze_data_path = Path('/Users/jon/recordings/2021_09_15/001/exports/2021-09-15_PupilLabs_000/gaze_positions.csv')\n",
    "pup_data_path = Path('/Users/jon/recordings/2021_09_15/001/exports/2021-09-15_PupilLabs_000/pupil_positions.csv')\n",
    "\n",
    "gaze = pd.read_csv(str(gaze_data_path))\n",
    "eye = pd.read_csv(str(pup_data_path))"
   ]
  },
  {
   "cell_type": "code",
   "execution_count": 3,
   "metadata": {},
   "outputs": [
    {
     "output_type": "execute_result",
     "data": {
      "text/plain": [
       "       gaze_timestamp  world_index  confidence  norm_pos_x  norm_pos_y  \\\n",
       "0       253406.705536            0    0.349192    0.534817    0.663209   \n",
       "1       253406.713869            0    0.612688    0.534720    0.663768   \n",
       "2       253406.714576            0    0.393972    0.532203    0.767989   \n",
       "3       253406.722201            1    0.545537    0.534623    0.664328   \n",
       "4       253406.730534            1    0.520164    0.534525    0.664889   \n",
       "...               ...          ...         ...         ...         ...   \n",
       "10277   253456.161827         1476    0.306336    0.596711    0.560940   \n",
       "10278   253456.170160         1476    0.263351    0.597526    0.560816   \n",
       "10279   253456.178493         1476    0.265669    0.598344    0.560693   \n",
       "10280   253456.186826         1477    0.196341    0.591205    0.562608   \n",
       "10281   253456.195159         1477    0.156678    0.578462    0.595899   \n",
       "\n",
       "             base_data  gaze_point_3d_x  gaze_point_3d_y  gaze_point_3d_z  \\\n",
       "0      253406.705536-1        25.169866       -75.698787       380.205392   \n",
       "1      253406.713869-1        25.109059       -75.895060       380.171295   \n",
       "2      253406.714576-0        22.426979      -107.281725       354.284613   \n",
       "3      253406.722201-1        25.048079       -76.091716       380.137030   \n",
       "4      253406.730534-1        24.986913       -76.288803       380.102589   \n",
       "...                ...              ...              ...              ...   \n",
       "10277  253456.161827-0        60.617827       -37.699272       361.786344   \n",
       "10278   253456.17016-0        61.117001       -37.667642       361.807687   \n",
       "10279  253456.178493-0        61.618103       -37.636219       361.828607   \n",
       "10280  253456.186826-0        57.256968       -38.193720       361.627852   \n",
       "10281  253456.195159-0        49.651620       -49.240594       360.998828   \n",
       "\n",
       "       eye_center0_3d_x  ...  eye_center0_3d_z  gaze_normal0_x  \\\n",
       "0                   NaN  ...               NaN             NaN   \n",
       "1                   NaN  ...               NaN             NaN   \n",
       "2             82.791180  ...       -136.698530       -0.120728   \n",
       "3                   NaN  ...               NaN             NaN   \n",
       "4                   NaN  ...               NaN             NaN   \n",
       "...                 ...  ...               ...             ...   \n",
       "10277         82.056003  ...       -137.746509       -0.042876   \n",
       "10278         82.056003  ...       -137.746509       -0.041878   \n",
       "10279         82.056003  ...       -137.746509       -0.040876   \n",
       "10280         82.056003  ...       -137.746509       -0.049598   \n",
       "10281         82.056003  ...       -137.746509       -0.064809   \n",
       "\n",
       "       gaze_normal0_y  gaze_normal0_z  eye_center1_3d_x  eye_center1_3d_y  \\\n",
       "0                 NaN             NaN        129.528018        -23.673453   \n",
       "1                 NaN             NaN        129.528018        -23.673453   \n",
       "2           -0.145488        0.981966               NaN               NaN   \n",
       "3                 NaN             NaN        129.528018        -23.673453   \n",
       "4                 NaN             NaN        129.528018        -23.673453   \n",
       "...               ...             ...               ...               ...   \n",
       "10277       -0.005416        0.999066               NaN               NaN   \n",
       "10278       -0.005353        0.999108               NaN               NaN   \n",
       "10279       -0.005290        0.999150               NaN               NaN   \n",
       "10280       -0.006405        0.998749               NaN               NaN   \n",
       "10281       -0.028499        0.997491               NaN               NaN   \n",
       "\n",
       "       eye_center1_3d_z  gaze_normal1_x  gaze_normal1_y  gaze_normal1_z  \n",
       "0           -106.007257       -0.208716       -0.104051        0.972425  \n",
       "1           -106.007257       -0.208838       -0.104443        0.972357  \n",
       "2                   NaN             NaN             NaN             NaN  \n",
       "3           -106.007257       -0.208960       -0.104837        0.972289  \n",
       "4           -106.007257       -0.209082       -0.105231        0.972220  \n",
       "...                 ...             ...             ...             ...  \n",
       "10277               NaN             NaN             NaN             NaN  \n",
       "10278               NaN             NaN             NaN             NaN  \n",
       "10279               NaN             NaN             NaN             NaN  \n",
       "10280               NaN             NaN             NaN             NaN  \n",
       "10281               NaN             NaN             NaN             NaN  \n",
       "\n",
       "[10282 rows x 21 columns]"
      ],
      "text/html": "<div>\n<style scoped>\n    .dataframe tbody tr th:only-of-type {\n        vertical-align: middle;\n    }\n\n    .dataframe tbody tr th {\n        vertical-align: top;\n    }\n\n    .dataframe thead th {\n        text-align: right;\n    }\n</style>\n<table border=\"1\" class=\"dataframe\">\n  <thead>\n    <tr style=\"text-align: right;\">\n      <th></th>\n      <th>gaze_timestamp</th>\n      <th>world_index</th>\n      <th>confidence</th>\n      <th>norm_pos_x</th>\n      <th>norm_pos_y</th>\n      <th>base_data</th>\n      <th>gaze_point_3d_x</th>\n      <th>gaze_point_3d_y</th>\n      <th>gaze_point_3d_z</th>\n      <th>eye_center0_3d_x</th>\n      <th>...</th>\n      <th>eye_center0_3d_z</th>\n      <th>gaze_normal0_x</th>\n      <th>gaze_normal0_y</th>\n      <th>gaze_normal0_z</th>\n      <th>eye_center1_3d_x</th>\n      <th>eye_center1_3d_y</th>\n      <th>eye_center1_3d_z</th>\n      <th>gaze_normal1_x</th>\n      <th>gaze_normal1_y</th>\n      <th>gaze_normal1_z</th>\n    </tr>\n  </thead>\n  <tbody>\n    <tr>\n      <th>0</th>\n      <td>253406.705536</td>\n      <td>0</td>\n      <td>0.349192</td>\n      <td>0.534817</td>\n      <td>0.663209</td>\n      <td>253406.705536-1</td>\n      <td>25.169866</td>\n      <td>-75.698787</td>\n      <td>380.205392</td>\n      <td>NaN</td>\n      <td>...</td>\n      <td>NaN</td>\n      <td>NaN</td>\n      <td>NaN</td>\n      <td>NaN</td>\n      <td>129.528018</td>\n      <td>-23.673453</td>\n      <td>-106.007257</td>\n      <td>-0.208716</td>\n      <td>-0.104051</td>\n      <td>0.972425</td>\n    </tr>\n    <tr>\n      <th>1</th>\n      <td>253406.713869</td>\n      <td>0</td>\n      <td>0.612688</td>\n      <td>0.534720</td>\n      <td>0.663768</td>\n      <td>253406.713869-1</td>\n      <td>25.109059</td>\n      <td>-75.895060</td>\n      <td>380.171295</td>\n      <td>NaN</td>\n      <td>...</td>\n      <td>NaN</td>\n      <td>NaN</td>\n      <td>NaN</td>\n      <td>NaN</td>\n      <td>129.528018</td>\n      <td>-23.673453</td>\n      <td>-106.007257</td>\n      <td>-0.208838</td>\n      <td>-0.104443</td>\n      <td>0.972357</td>\n    </tr>\n    <tr>\n      <th>2</th>\n      <td>253406.714576</td>\n      <td>0</td>\n      <td>0.393972</td>\n      <td>0.532203</td>\n      <td>0.767989</td>\n      <td>253406.714576-0</td>\n      <td>22.426979</td>\n      <td>-107.281725</td>\n      <td>354.284613</td>\n      <td>82.791180</td>\n      <td>...</td>\n      <td>-136.698530</td>\n      <td>-0.120728</td>\n      <td>-0.145488</td>\n      <td>0.981966</td>\n      <td>NaN</td>\n      <td>NaN</td>\n      <td>NaN</td>\n      <td>NaN</td>\n      <td>NaN</td>\n      <td>NaN</td>\n    </tr>\n    <tr>\n      <th>3</th>\n      <td>253406.722201</td>\n      <td>1</td>\n      <td>0.545537</td>\n      <td>0.534623</td>\n      <td>0.664328</td>\n      <td>253406.722201-1</td>\n      <td>25.048079</td>\n      <td>-76.091716</td>\n      <td>380.137030</td>\n      <td>NaN</td>\n      <td>...</td>\n      <td>NaN</td>\n      <td>NaN</td>\n      <td>NaN</td>\n      <td>NaN</td>\n      <td>129.528018</td>\n      <td>-23.673453</td>\n      <td>-106.007257</td>\n      <td>-0.208960</td>\n      <td>-0.104837</td>\n      <td>0.972289</td>\n    </tr>\n    <tr>\n      <th>4</th>\n      <td>253406.730534</td>\n      <td>1</td>\n      <td>0.520164</td>\n      <td>0.534525</td>\n      <td>0.664889</td>\n      <td>253406.730534-1</td>\n      <td>24.986913</td>\n      <td>-76.288803</td>\n      <td>380.102589</td>\n      <td>NaN</td>\n      <td>...</td>\n      <td>NaN</td>\n      <td>NaN</td>\n      <td>NaN</td>\n      <td>NaN</td>\n      <td>129.528018</td>\n      <td>-23.673453</td>\n      <td>-106.007257</td>\n      <td>-0.209082</td>\n      <td>-0.105231</td>\n      <td>0.972220</td>\n    </tr>\n    <tr>\n      <th>...</th>\n      <td>...</td>\n      <td>...</td>\n      <td>...</td>\n      <td>...</td>\n      <td>...</td>\n      <td>...</td>\n      <td>...</td>\n      <td>...</td>\n      <td>...</td>\n      <td>...</td>\n      <td>...</td>\n      <td>...</td>\n      <td>...</td>\n      <td>...</td>\n      <td>...</td>\n      <td>...</td>\n      <td>...</td>\n      <td>...</td>\n      <td>...</td>\n      <td>...</td>\n      <td>...</td>\n    </tr>\n    <tr>\n      <th>10277</th>\n      <td>253456.161827</td>\n      <td>1476</td>\n      <td>0.306336</td>\n      <td>0.596711</td>\n      <td>0.560940</td>\n      <td>253456.161827-0</td>\n      <td>60.617827</td>\n      <td>-37.699272</td>\n      <td>361.786344</td>\n      <td>82.056003</td>\n      <td>...</td>\n      <td>-137.746509</td>\n      <td>-0.042876</td>\n      <td>-0.005416</td>\n      <td>0.999066</td>\n      <td>NaN</td>\n      <td>NaN</td>\n      <td>NaN</td>\n      <td>NaN</td>\n      <td>NaN</td>\n      <td>NaN</td>\n    </tr>\n    <tr>\n      <th>10278</th>\n      <td>253456.170160</td>\n      <td>1476</td>\n      <td>0.263351</td>\n      <td>0.597526</td>\n      <td>0.560816</td>\n      <td>253456.17016-0</td>\n      <td>61.117001</td>\n      <td>-37.667642</td>\n      <td>361.807687</td>\n      <td>82.056003</td>\n      <td>...</td>\n      <td>-137.746509</td>\n      <td>-0.041878</td>\n      <td>-0.005353</td>\n      <td>0.999108</td>\n      <td>NaN</td>\n      <td>NaN</td>\n      <td>NaN</td>\n      <td>NaN</td>\n      <td>NaN</td>\n      <td>NaN</td>\n    </tr>\n    <tr>\n      <th>10279</th>\n      <td>253456.178493</td>\n      <td>1476</td>\n      <td>0.265669</td>\n      <td>0.598344</td>\n      <td>0.560693</td>\n      <td>253456.178493-0</td>\n      <td>61.618103</td>\n      <td>-37.636219</td>\n      <td>361.828607</td>\n      <td>82.056003</td>\n      <td>...</td>\n      <td>-137.746509</td>\n      <td>-0.040876</td>\n      <td>-0.005290</td>\n      <td>0.999150</td>\n      <td>NaN</td>\n      <td>NaN</td>\n      <td>NaN</td>\n      <td>NaN</td>\n      <td>NaN</td>\n      <td>NaN</td>\n    </tr>\n    <tr>\n      <th>10280</th>\n      <td>253456.186826</td>\n      <td>1477</td>\n      <td>0.196341</td>\n      <td>0.591205</td>\n      <td>0.562608</td>\n      <td>253456.186826-0</td>\n      <td>57.256968</td>\n      <td>-38.193720</td>\n      <td>361.627852</td>\n      <td>82.056003</td>\n      <td>...</td>\n      <td>-137.746509</td>\n      <td>-0.049598</td>\n      <td>-0.006405</td>\n      <td>0.998749</td>\n      <td>NaN</td>\n      <td>NaN</td>\n      <td>NaN</td>\n      <td>NaN</td>\n      <td>NaN</td>\n      <td>NaN</td>\n    </tr>\n    <tr>\n      <th>10281</th>\n      <td>253456.195159</td>\n      <td>1477</td>\n      <td>0.156678</td>\n      <td>0.578462</td>\n      <td>0.595899</td>\n      <td>253456.195159-0</td>\n      <td>49.651620</td>\n      <td>-49.240594</td>\n      <td>360.998828</td>\n      <td>82.056003</td>\n      <td>...</td>\n      <td>-137.746509</td>\n      <td>-0.064809</td>\n      <td>-0.028499</td>\n      <td>0.997491</td>\n      <td>NaN</td>\n      <td>NaN</td>\n      <td>NaN</td>\n      <td>NaN</td>\n      <td>NaN</td>\n      <td>NaN</td>\n    </tr>\n  </tbody>\n</table>\n<p>10282 rows × 21 columns</p>\n</div>"
     },
     "metadata": {},
     "execution_count": 3
    }
   ],
   "source": [
    "gaze"
   ]
  },
  {
   "cell_type": "code",
   "execution_count": 4,
   "metadata": {},
   "outputs": [
    {
     "output_type": "execute_result",
     "data": {
      "text/plain": [
       "       pupil_timestamp  world_index  eye_id  confidence  norm_pos_x  \\\n",
       "0        253406.705536            0       1    0.349192    0.357985   \n",
       "1        253406.705536            0       1    0.609645    0.369820   \n",
       "2        253406.713869            0       1    0.650182    0.370315   \n",
       "3        253406.713869            0       1    0.612688    0.358008   \n",
       "4        253406.714576            0       0    0.656118    0.436751   \n",
       "...                ...          ...     ...         ...         ...   \n",
       "20577    253456.187343         1477       1    0.187016    0.343834   \n",
       "20578    253456.195159         1477       0    0.156678    0.435964   \n",
       "20579    253456.195159         1477       0    0.732850    0.434864   \n",
       "20580    253456.195676         1477       1    0.900354    0.351031   \n",
       "20581    253456.195676         1477       1    0.376037    0.349753   \n",
       "\n",
       "       norm_pos_y    diameter  method  ellipse_center_x  ellipse_center_y  \\\n",
       "0        0.482843  120.711413  3d c++        143.194041        206.862685   \n",
       "1        0.488209  110.594673  2d c++        147.928139        204.716492   \n",
       "2        0.483301  112.897453  2d c++        148.126007        206.679565   \n",
       "3        0.483104  120.677309  3d c++        143.203313        206.758398   \n",
       "4        0.503676  118.736771  2d c++        174.700203        198.529549   \n",
       "...           ...         ...     ...               ...               ...   \n",
       "20577    0.411249  112.579436  3d c++        137.533622        235.500554   \n",
       "20578    0.553882  113.807522  3d c++        174.385505        178.447325   \n",
       "20579    0.548056  117.744919  2d c++        173.945610        180.777473   \n",
       "20580    0.424507  117.824585  2d c++        140.412498        230.197006   \n",
       "20581    0.417486  112.672290  3d c++        139.901331        233.005763   \n",
       "\n",
       "       ...  circle_3d_normal_y  circle_3d_normal_z  circle_3d_radius  \\\n",
       "0      ...           -0.271154           -0.929117          2.751813   \n",
       "1      ...                 NaN                 NaN               NaN   \n",
       "2      ...                 NaN                 NaN               NaN   \n",
       "3      ...           -0.271555           -0.929008          2.751188   \n",
       "4      ...                 NaN                 NaN               NaN   \n",
       "...    ...                 ...                 ...               ...   \n",
       "20577  ...           -0.182194           -0.934717          2.508306   \n",
       "20578  ...            0.213972           -0.965663          2.660025   \n",
       "20579  ...                 NaN                 NaN               NaN   \n",
       "20580  ...                 NaN                 NaN               NaN   \n",
       "20581  ...           -0.191746           -0.935729          2.509729   \n",
       "\n",
       "          theta       phi  projected_sphere_center_x  \\\n",
       "0      1.296204 -1.835078                 205.395263   \n",
       "1           NaN       NaN                        NaN   \n",
       "2           NaN       NaN                        NaN   \n",
       "3      1.295788 -1.835078                 205.395263   \n",
       "4           NaN       NaN                        NaN   \n",
       "...         ...       ...                        ...   \n",
       "20577  1.387579 -1.886340                 212.298670   \n",
       "20578  1.786436 -1.722216                 207.869522   \n",
       "20579       NaN       NaN                        NaN   \n",
       "20580       NaN       NaN                        NaN   \n",
       "20581  1.377855 -1.877214                 212.298670   \n",
       "\n",
       "       projected_sphere_center_y  projected_sphere_axis_a  \\\n",
       "0                     253.261160               365.942672   \n",
       "1                            NaN                      NaN   \n",
       "2                            NaN                      NaN   \n",
       "3                     253.261160               365.942672   \n",
       "4                            NaN                      NaN   \n",
       "...                          ...                      ...   \n",
       "20577                 257.636750               370.686258   \n",
       "20578                 147.807832               355.751726   \n",
       "20579                        NaN                      NaN   \n",
       "20580                        NaN                      NaN   \n",
       "20581                 257.636750               370.686258   \n",
       "\n",
       "       projected_sphere_axis_b  projected_sphere_angle  \n",
       "0                   365.942672                    90.0  \n",
       "1                          NaN                     NaN  \n",
       "2                          NaN                     NaN  \n",
       "3                   365.942672                    90.0  \n",
       "4                          NaN                     NaN  \n",
       "...                        ...                     ...  \n",
       "20577               370.686258                    90.0  \n",
       "20578               355.751726                    90.0  \n",
       "20579                      NaN                     NaN  \n",
       "20580                      NaN                     NaN  \n",
       "20581               370.686258                    90.0  \n",
       "\n",
       "[20582 rows x 34 columns]"
      ],
      "text/html": "<div>\n<style scoped>\n    .dataframe tbody tr th:only-of-type {\n        vertical-align: middle;\n    }\n\n    .dataframe tbody tr th {\n        vertical-align: top;\n    }\n\n    .dataframe thead th {\n        text-align: right;\n    }\n</style>\n<table border=\"1\" class=\"dataframe\">\n  <thead>\n    <tr style=\"text-align: right;\">\n      <th></th>\n      <th>pupil_timestamp</th>\n      <th>world_index</th>\n      <th>eye_id</th>\n      <th>confidence</th>\n      <th>norm_pos_x</th>\n      <th>norm_pos_y</th>\n      <th>diameter</th>\n      <th>method</th>\n      <th>ellipse_center_x</th>\n      <th>ellipse_center_y</th>\n      <th>...</th>\n      <th>circle_3d_normal_y</th>\n      <th>circle_3d_normal_z</th>\n      <th>circle_3d_radius</th>\n      <th>theta</th>\n      <th>phi</th>\n      <th>projected_sphere_center_x</th>\n      <th>projected_sphere_center_y</th>\n      <th>projected_sphere_axis_a</th>\n      <th>projected_sphere_axis_b</th>\n      <th>projected_sphere_angle</th>\n    </tr>\n  </thead>\n  <tbody>\n    <tr>\n      <th>0</th>\n      <td>253406.705536</td>\n      <td>0</td>\n      <td>1</td>\n      <td>0.349192</td>\n      <td>0.357985</td>\n      <td>0.482843</td>\n      <td>120.711413</td>\n      <td>3d c++</td>\n      <td>143.194041</td>\n      <td>206.862685</td>\n      <td>...</td>\n      <td>-0.271154</td>\n      <td>-0.929117</td>\n      <td>2.751813</td>\n      <td>1.296204</td>\n      <td>-1.835078</td>\n      <td>205.395263</td>\n      <td>253.261160</td>\n      <td>365.942672</td>\n      <td>365.942672</td>\n      <td>90.0</td>\n    </tr>\n    <tr>\n      <th>1</th>\n      <td>253406.705536</td>\n      <td>0</td>\n      <td>1</td>\n      <td>0.609645</td>\n      <td>0.369820</td>\n      <td>0.488209</td>\n      <td>110.594673</td>\n      <td>2d c++</td>\n      <td>147.928139</td>\n      <td>204.716492</td>\n      <td>...</td>\n      <td>NaN</td>\n      <td>NaN</td>\n      <td>NaN</td>\n      <td>NaN</td>\n      <td>NaN</td>\n      <td>NaN</td>\n      <td>NaN</td>\n      <td>NaN</td>\n      <td>NaN</td>\n      <td>NaN</td>\n    </tr>\n    <tr>\n      <th>2</th>\n      <td>253406.713869</td>\n      <td>0</td>\n      <td>1</td>\n      <td>0.650182</td>\n      <td>0.370315</td>\n      <td>0.483301</td>\n      <td>112.897453</td>\n      <td>2d c++</td>\n      <td>148.126007</td>\n      <td>206.679565</td>\n      <td>...</td>\n      <td>NaN</td>\n      <td>NaN</td>\n      <td>NaN</td>\n      <td>NaN</td>\n      <td>NaN</td>\n      <td>NaN</td>\n      <td>NaN</td>\n      <td>NaN</td>\n      <td>NaN</td>\n      <td>NaN</td>\n    </tr>\n    <tr>\n      <th>3</th>\n      <td>253406.713869</td>\n      <td>0</td>\n      <td>1</td>\n      <td>0.612688</td>\n      <td>0.358008</td>\n      <td>0.483104</td>\n      <td>120.677309</td>\n      <td>3d c++</td>\n      <td>143.203313</td>\n      <td>206.758398</td>\n      <td>...</td>\n      <td>-0.271555</td>\n      <td>-0.929008</td>\n      <td>2.751188</td>\n      <td>1.295788</td>\n      <td>-1.835078</td>\n      <td>205.395263</td>\n      <td>253.261160</td>\n      <td>365.942672</td>\n      <td>365.942672</td>\n      <td>90.0</td>\n    </tr>\n    <tr>\n      <th>4</th>\n      <td>253406.714576</td>\n      <td>0</td>\n      <td>0</td>\n      <td>0.656118</td>\n      <td>0.436751</td>\n      <td>0.503676</td>\n      <td>118.736771</td>\n      <td>2d c++</td>\n      <td>174.700203</td>\n      <td>198.529549</td>\n      <td>...</td>\n      <td>NaN</td>\n      <td>NaN</td>\n      <td>NaN</td>\n      <td>NaN</td>\n      <td>NaN</td>\n      <td>NaN</td>\n      <td>NaN</td>\n      <td>NaN</td>\n      <td>NaN</td>\n      <td>NaN</td>\n    </tr>\n    <tr>\n      <th>...</th>\n      <td>...</td>\n      <td>...</td>\n      <td>...</td>\n      <td>...</td>\n      <td>...</td>\n      <td>...</td>\n      <td>...</td>\n      <td>...</td>\n      <td>...</td>\n      <td>...</td>\n      <td>...</td>\n      <td>...</td>\n      <td>...</td>\n      <td>...</td>\n      <td>...</td>\n      <td>...</td>\n      <td>...</td>\n      <td>...</td>\n      <td>...</td>\n      <td>...</td>\n      <td>...</td>\n    </tr>\n    <tr>\n      <th>20577</th>\n      <td>253456.187343</td>\n      <td>1477</td>\n      <td>1</td>\n      <td>0.187016</td>\n      <td>0.343834</td>\n      <td>0.411249</td>\n      <td>112.579436</td>\n      <td>3d c++</td>\n      <td>137.533622</td>\n      <td>235.500554</td>\n      <td>...</td>\n      <td>-0.182194</td>\n      <td>-0.934717</td>\n      <td>2.508306</td>\n      <td>1.387579</td>\n      <td>-1.886340</td>\n      <td>212.298670</td>\n      <td>257.636750</td>\n      <td>370.686258</td>\n      <td>370.686258</td>\n      <td>90.0</td>\n    </tr>\n    <tr>\n      <th>20578</th>\n      <td>253456.195159</td>\n      <td>1477</td>\n      <td>0</td>\n      <td>0.156678</td>\n      <td>0.435964</td>\n      <td>0.553882</td>\n      <td>113.807522</td>\n      <td>3d c++</td>\n      <td>174.385505</td>\n      <td>178.447325</td>\n      <td>...</td>\n      <td>0.213972</td>\n      <td>-0.965663</td>\n      <td>2.660025</td>\n      <td>1.786436</td>\n      <td>-1.722216</td>\n      <td>207.869522</td>\n      <td>147.807832</td>\n      <td>355.751726</td>\n      <td>355.751726</td>\n      <td>90.0</td>\n    </tr>\n    <tr>\n      <th>20579</th>\n      <td>253456.195159</td>\n      <td>1477</td>\n      <td>0</td>\n      <td>0.732850</td>\n      <td>0.434864</td>\n      <td>0.548056</td>\n      <td>117.744919</td>\n      <td>2d c++</td>\n      <td>173.945610</td>\n      <td>180.777473</td>\n      <td>...</td>\n      <td>NaN</td>\n      <td>NaN</td>\n      <td>NaN</td>\n      <td>NaN</td>\n      <td>NaN</td>\n      <td>NaN</td>\n      <td>NaN</td>\n      <td>NaN</td>\n      <td>NaN</td>\n      <td>NaN</td>\n    </tr>\n    <tr>\n      <th>20580</th>\n      <td>253456.195676</td>\n      <td>1477</td>\n      <td>1</td>\n      <td>0.900354</td>\n      <td>0.351031</td>\n      <td>0.424507</td>\n      <td>117.824585</td>\n      <td>2d c++</td>\n      <td>140.412498</td>\n      <td>230.197006</td>\n      <td>...</td>\n      <td>NaN</td>\n      <td>NaN</td>\n      <td>NaN</td>\n      <td>NaN</td>\n      <td>NaN</td>\n      <td>NaN</td>\n      <td>NaN</td>\n      <td>NaN</td>\n      <td>NaN</td>\n      <td>NaN</td>\n    </tr>\n    <tr>\n      <th>20581</th>\n      <td>253456.195676</td>\n      <td>1477</td>\n      <td>1</td>\n      <td>0.376037</td>\n      <td>0.349753</td>\n      <td>0.417486</td>\n      <td>112.672290</td>\n      <td>3d c++</td>\n      <td>139.901331</td>\n      <td>233.005763</td>\n      <td>...</td>\n      <td>-0.191746</td>\n      <td>-0.935729</td>\n      <td>2.509729</td>\n      <td>1.377855</td>\n      <td>-1.877214</td>\n      <td>212.298670</td>\n      <td>257.636750</td>\n      <td>370.686258</td>\n      <td>370.686258</td>\n      <td>90.0</td>\n    </tr>\n  </tbody>\n</table>\n<p>20582 rows × 34 columns</p>\n</div>"
     },
     "metadata": {},
     "execution_count": 4
    }
   ],
   "source": [
    "eye"
   ]
  },
  {
   "cell_type": "code",
   "execution_count": 5,
   "metadata": {},
   "outputs": [],
   "source": [
    "gaze_time = gaze['gaze_timestamp']\n",
    "gazeX = gaze['norm_pos_x']\n",
    "gazeY = gaze['norm_pos_y']\n"
   ]
  },
  {
   "cell_type": "code",
   "execution_count": 6,
   "metadata": {},
   "outputs": [],
   "source": [
    "eye_d = eye['eye_id']\n",
    "eye_time = eye['pupil_timestamp']\n",
    "eyeX = eye['norm_pos_x']\n",
    "eyeY = eye['norm_pos_y']\n"
   ]
  },
  {
   "cell_type": "code",
   "execution_count": 7,
   "metadata": {},
   "outputs": [],
   "source": [
    "rEye_id = eye_d==0\n",
    "\n",
    "rEye_time = eye_time[rEye_id]\n",
    "rEyeX = eyeX[rEye_id]\n",
    "rEyeY = eyeY[rEye_id]\n"
   ]
  },
  {
   "cell_type": "code",
   "execution_count": null,
   "metadata": {},
   "outputs": [],
   "source": [
    "fig = plt.figure()\n",
    "ax = fig.add_subplot()\n",
    "ax.plot(gaze_time, gazeX)\n",
    "ax.plot(gaze_time, gazeY)"
   ]
  },
  {
   "cell_type": "code",
   "execution_count": 8,
   "metadata": {},
   "outputs": [
    {
     "output_type": "stream",
     "name": "stdout",
     "text": [
      "Using matplotlib backend: MacOSX\n"
     ]
    }
   ],
   "source": [
    "%matplotlib"
   ]
  },
  {
   "cell_type": "code",
   "execution_count": 12,
   "metadata": {},
   "outputs": [],
   "source": [
    "fig = plt.figure()\n",
    "ax = fig.add_subplot()\n",
    "rEyeX_ax = ax.plot(rEye_time, rEyeX)\n",
    "rEyeY_ax = ax.plot(rEye_time, rEyeY)\n"
   ]
  },
  {
   "cell_type": "code",
   "execution_count": null,
   "metadata": {},
   "outputs": [],
   "source": []
  }
 ]
}
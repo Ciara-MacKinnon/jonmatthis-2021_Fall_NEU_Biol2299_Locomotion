{
  "nbformat": 4,
  "nbformat_minor": 2,
  "metadata": {
    "colab": {
      "name": "NEU_Fall2021_Biol2299_Locomotion_CentralCodeDump.ipynb",
      "provenance": [],
      "collapsed_sections": [],
      "toc_visible": true,
      "authorship_tag": "ABX9TyPb9THPnsfDVuDC3odY2NJx",
      "include_colab_link": true
    },
    "kernelspec": {
      "name": "python3",
      "display_name": "Python 3"
    },
    "language_info": {
      "name": "python"
    }
  },
  "cells": [
    {
      "cell_type": "markdown",
      "source": [
        "<a href=\"https://colab.research.google.com/github/jonmatthis/jonmatthis-2021_Fall_NEU_Biol2299_Locomotion/blob/main/NEU_Fall2021_Biol2299_Locomotion_CentralCodeDump.ipynb\" target=\"_parent\"><img src=\"https://colab.research.google.com/assets/colab-badge.svg\" alt=\"Open In Colab\"/></a>"
      ],
      "metadata": {
        "id": "view-in-github",
        "colab_type": "text"
      }
    },
    {
      "cell_type": "code",
      "execution_count": 1,
      "source": [
        "f=9"
      ],
      "outputs": [],
      "metadata": {
        "id": "denoMervn-fr"
      }
    },
    {
      "cell_type": "code",
      "execution_count": 5,
      "source": [
        "f"
      ],
      "outputs": [
        {
          "output_type": "execute_result",
          "data": {
            "text/plain": [
              "9"
            ]
          },
          "metadata": {},
          "execution_count": 5
        }
      ],
      "metadata": {
        "colab": {
          "base_uri": "https://localhost:8080/"
        },
        "id": "Gj4xVYXeqp9V",
        "outputId": "e28969eb-7d10-4cfb-e9e3-240eb970bf8d"
      }
    },
    {
      "cell_type": "code",
      "execution_count": 7,
      "source": [
        "%whos"
      ],
      "outputs": [
        {
          "output_type": "stream",
          "name": "stdout",
          "text": [
            "Variable   Type    Data/Info\n",
            "----------------------------\n",
            "f          int     9\n"
          ]
        }
      ],
      "metadata": {
        "colab": {
          "base_uri": "https://localhost:8080/"
        },
        "id": "8gS5oikXoJK3",
        "outputId": "ca0cf1d1-d78f-4bca-e93c-ba55847df367"
      }
    },
    {
      "cell_type": "code",
      "execution_count": null,
      "source": [
        "bo vscode "
      ],
      "outputs": [],
      "metadata": {
        "id": "RhshhsWzqq-H"
      }
    }
  ]
}
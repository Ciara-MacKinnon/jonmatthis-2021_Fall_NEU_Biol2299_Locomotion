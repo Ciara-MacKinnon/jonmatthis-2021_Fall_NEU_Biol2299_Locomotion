{
  "nbformat": 4,
  "nbformat_minor": 0,
  "metadata": {
    "colab": {
      "name": "NEU_Fall2021_Biol2299_Locomotion_CentralCodeDump.ipynb",
      "provenance": [],
      "collapsed_sections": [],
      "toc_visible": true,
      "authorship_tag": "ABX9TyNsA1NW4pA/4qePWZb0lsqf",
      "include_colab_link": true
    },
    "kernelspec": {
      "name": "python3",
      "display_name": "Python 3"
    },
    "language_info": {
      "name": "python"
    }
  },
  "cells": [
    {
      "cell_type": "markdown",
      "metadata": {
        "id": "view-in-github",
        "colab_type": "text"
      },
      "source": [
        "<a href=\"https://colab.research.google.com/github/jonmatthis/jonmatthis-2021_Fall_NEU_Biol2299_Locomotion/blob/main/NEU_Fall2021_Biol2299_Locomotion_CentralCodeDump.ipynb\" target=\"_parent\"><img src=\"https://colab.research.google.com/assets/colab-badge.svg\" alt=\"Open In Colab\"/></a>"
      ]
    },
    {
      "cell_type": "code",
      "metadata": {
        "id": "denoMervn-fr"
      },
      "source": [
        "f=9"
      ],
      "execution_count": 1,
      "outputs": []
    },
    {
      "cell_type": "code",
      "metadata": {
        "colab": {
          "base_uri": "https://localhost:8080/"
        },
        "id": "8gS5oikXoJK3",
        "outputId": "3b84e07f-9d8f-4280-878e-34ee0e62d668"
      },
      "source": [
        "%whos"
      ],
      "execution_count": 4,
      "outputs": [
        {
          "output_type": "stream",
          "name": "stdout",
          "text": [
            "Variable   Type    Data/Info\n",
            "----------------------------\n",
            "f          int     9\n"
          ]
        }
      ]
    }
  ]
}